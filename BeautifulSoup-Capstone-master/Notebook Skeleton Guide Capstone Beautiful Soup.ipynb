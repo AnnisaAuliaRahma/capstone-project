{
 "cells": [
  {
   "cell_type": "markdown",
   "metadata": {},
   "source": [
    "# Capstone Webscrapping using BeautifulSoup\n",
    "\n",
    "This notebook contains guidances & tasks on the data processing for the application\n",
    "\n",
    "(Please insert the background here )\n",
    "\n",
    "\n",
    "## Requesting the Data and Creating a BeautifulSoup\n",
    "\n",
    "Let's begin with requesting the web from the site with `get` method."
   ]
  },
  {
   "cell_type": "code",
   "execution_count": 1,
   "metadata": {
    "ExecuteTime": {
     "end_time": "2020-01-13T05:12:23.275508Z",
     "start_time": "2020-01-13T05:12:20.009898Z"
    }
   },
   "outputs": [],
   "source": [
    "import requests\n",
    "\n",
    "url_get = requests.get('https://www.exchange-rates.org/history/IDR/USD/T')"
   ]
  },
  {
   "cell_type": "markdown",
   "metadata": {},
   "source": [
    "To visualize what exactly you get from the `request.get`, we can use .content so ee what we exactly get, in here i slice it so it won't make our screen full of the html we get from the page. You can delete the slicing if you want to see what we fully get."
   ]
  },
  {
   "cell_type": "code",
   "execution_count": 2,
   "metadata": {
    "ExecuteTime": {
     "end_time": "2020-01-13T05:12:23.290648Z",
     "start_time": "2020-01-13T05:12:23.277650Z"
    }
   },
   "outputs": [
    {
     "data": {
      "text/plain": [
       "b'\\n<!DOCTYPE html>\\r\\n<!--[if lt IE 9]>\\r\\n    <html class=\"no-js ie8 oldie\" lang=\\'en\\' xml:lang=\\'en\\'>\\r\\n<![endif]-->\\r\\n<!--[if gt IE 8]><!--> <html class=\"no-js\" lang=\\'en\\' xml:lang=\\'en\\'> <!--<![endif]-->\\r\\n<head><title>Indonesian Rupiah Exchange Rate - US Dollar - Historical Exchange Rates</title>\\n<meta http-equiv=\"X-UA-Compatible\" content=\"IE=edge\">\\n<meta content=\"C#\" name=\"CODE_LANGUAGE\" />\\n<meta content=\"JavaScript\" name=\"vs_defaultClientScript\" />\\n<meta content=\"http://schemas.microsoft.com/intellisense/ie5\" name=\"vs_targetSchema\" />\\n<meta name=\"viewport\" content=\"width=device-width, initial-scale=1, maximum-scale=5\">\\n<meta http-equiv=\"Content-Type\" content=\"text/html; charset=utf-8\" />\\n\\n<meta name=\"mapping\" content=\"A\" />\\n<base href=\"https://www.exchange-rates.org/\" />\\n'"
      ]
     },
     "execution_count": 2,
     "metadata": {},
     "output_type": "execute_result"
    }
   ],
   "source": [
    "url_get.content[1:777]"
   ]
  },
  {
   "cell_type": "markdown",
   "metadata": {},
   "source": [
    "As we can see we get a very unstructured and complex html, which actually contains the codes needed to show the webpages on your web browser. But we as human still confused what and where we can use that piece of code, so here where we use the beautifulsoup. Beautiful soup class will result a beautifulsoup object. Beautiful Soup transforms a complex HTML document into a complex tree of Python objects. \n",
    "\n",
    "Let's make Beautiful soup object and feel free to explore the object here."
   ]
  },
  {
   "cell_type": "code",
   "execution_count": 3,
   "metadata": {
    "ExecuteTime": {
     "end_time": "2020-01-13T05:12:23.808122Z",
     "start_time": "2020-01-13T05:12:23.292610Z"
    }
   },
   "outputs": [
    {
     "name": "stdout",
     "output_type": "stream",
     "text": [
      "<class 'bs4.BeautifulSoup'>\n"
     ]
    }
   ],
   "source": [
    "from bs4 import BeautifulSoup \n",
    "\n",
    "soup = BeautifulSoup(url_get.content,\"html.parser\")\n",
    "print(type(soup))"
   ]
  },
  {
   "cell_type": "markdown",
   "metadata": {},
   "source": [
    "## Finding the right key to scrap the data & Extracting the right information"
   ]
  },
  {
   "cell_type": "markdown",
   "metadata": {},
   "source": [
    "Find the key and put the key into the `.find()` Put all the exploring the right key at this cell. (please change this markdown with your explanation)"
   ]
  },
  {
   "cell_type": "code",
   "execution_count": 4,
   "metadata": {
    "ExecuteTime": {
     "end_time": "2020-01-13T05:12:23.878904Z",
     "start_time": "2020-01-13T05:12:23.854974Z"
    }
   },
   "outputs": [
    {
     "name": "stdout",
     "output_type": "stream",
     "text": [
      "table class=\"table table-striped table-hover table-hover-solid-row table-simple history-data\">\n",
      " <tbody>\n",
      "  <tr>\n",
      "   <td>\n",
      "    11/26/2020\n",
      "   </td>\n",
      "   <td>\n",
      "    Thursday\n",
      "   </td>\n",
      "   <td>\n",
      "    <a href=\"/Rate/USD/IDR/11-26-2020\">\n",
      "     14,090.70769\n",
      "    </a>\n",
      "    IDR\n",
      "   </td>\n",
      "   <td class=\"text-narrow-screen-hidden\">\n",
      "    <a href=\"/Rate/USD/IDR/11-26-2020\">\n",
      "     USD IDR rate for 11/26/2020\n",
      "    </a>\n",
      "   </td>\n",
      "  </tr>\n",
      "  <tr>\n",
      "   <td>\n",
      "    11/25/2020\n",
      "   </td>\n",
      "   <td>\n",
      "    Wednesday\n",
      "   </td>\n",
      "   <td>\n",
      "    <a href=\"/R\n"
     ]
    }
   ],
   "source": [
    "table = soup.find('table', attrs={'class':'table table-striped table-hover table-hover-solid-row table-simple history-data'})\n",
    "print(table.prettify()[1:500])"
   ]
  },
  {
   "cell_type": "markdown",
   "metadata": {},
   "source": [
    "Do the scrapping process here (please change this markdown with your explanation)"
   ]
  },
  {
   "cell_type": "code",
   "execution_count": 5,
   "metadata": {},
   "outputs": [
    {
     "data": {
      "text/plain": [
       "[<tr><td>11/26/2020</td><td>Thursday</td><td><a href=\"/Rate/USD/IDR/11-26-2020\">14,090.70769</a> IDR</td><td class=\"text-narrow-screen-hidden\"><a href=\"/Rate/USD/IDR/11-26-2020\">USD IDR rate for 11/26/2020</a></td></tr>,\n",
       " <tr><td>11/25/2020</td><td>Wednesday</td><td><a href=\"/Rate/USD/IDR/11-25-2020\">14,136.09929</a> IDR</td><td class=\"text-narrow-screen-hidden\"><a href=\"/Rate/USD/IDR/11-25-2020\">USD IDR rate for 11/25/2020</a></td></tr>,\n",
       " <tr><td>11/24/2020</td><td>Tuesday</td><td><a href=\"/Rate/USD/IDR/11-24-2020\">14,137.48161</a> IDR</td><td class=\"text-narrow-screen-hidden\"><a href=\"/Rate/USD/IDR/11-24-2020\">USD IDR rate for 11/24/2020</a></td></tr>,\n",
       " <tr><td>11/23/2020</td><td>Monday</td><td><a href=\"/Rate/USD/IDR/11-23-2020\">14,185.57119</a> IDR</td><td class=\"text-narrow-screen-hidden\"><a href=\"/Rate/USD/IDR/11-23-2020\">USD IDR rate for 11/23/2020</a></td></tr>]"
      ]
     },
     "execution_count": 5,
     "metadata": {},
     "output_type": "execute_result"
    }
   ],
   "source": [
    "tr = table.find_all('tr')\n",
    "tr[:4] # just call 4 founded tr\n"
   ]
  },
  {
   "cell_type": "code",
   "execution_count": 6,
   "metadata": {
    "ExecuteTime": {
     "end_time": "2020-01-13T05:12:24.008256Z",
     "start_time": "2020-01-13T05:12:23.980358Z"
    },
    "scrolled": false
   },
   "outputs": [
    {
     "data": {
      "text/plain": [
       "[('11/25/2020', 'Wednesday', '14,136.09929 IDR'),\n",
       " ('11/24/2020', 'Tuesday', '14,137.48161 IDR'),\n",
       " ('11/23/2020', 'Monday', '14,185.57119 IDR'),\n",
       " ('11/20/2020', 'Friday', '14,162.60519 IDR'),\n",
       " ('11/19/2020', 'Thursday', '14,165.50144 IDR'),\n",
       " ('11/18/2020', 'Wednesday', '14,051.29503 IDR'),\n",
       " ('11/17/2020', 'Tuesday', '14,040.16051 IDR'),\n",
       " ('11/16/2020', 'Monday', '14,085.69501 IDR'),\n",
       " ('11/13/2020', 'Friday', '14,142.77143 IDR'),\n",
       " ('11/12/2020', 'Thursday', '14,141.24303 IDR'),\n",
       " ('11/11/2020', 'Wednesday', '14,073.46024 IDR'),\n",
       " ('11/10/2020', 'Tuesday', '14,053.76135 IDR'),\n",
       " ('11/9/2020', 'Monday', '14,283.29667 IDR'),\n",
       " ('11/6/2020', 'Friday', '14,214.49744 IDR'),\n",
       " ('11/5/2020', 'Thursday', '14,389.14027 IDR'),\n",
       " ('11/4/2020', 'Wednesday', '14,544.44634 IDR'),\n",
       " ('11/3/2020', 'Tuesday', '14,589.01774 IDR'),\n",
       " ('11/2/2020', 'Monday', '14,612.89990 IDR'),\n",
       " ('10/30/2020', 'Friday', '14,629.16216 IDR'),\n",
       " ('10/29/2020', 'Thursday', '14,701.62361 IDR'),\n",
       " ('10/28/2020', 'Wednesday', '14,701.92586 IDR'),\n",
       " ('10/27/2020', 'Tuesday', '14,649.78960 IDR'),\n",
       " ('10/26/2020', 'Monday', '14,652.88010 IDR'),\n",
       " ('10/23/2020', 'Friday', '14,655.04157 IDR'),\n",
       " ('10/22/2020', 'Thursday', '14,647.90877 IDR'),\n",
       " ('10/21/2020', 'Wednesday', '14,641.61060 IDR'),\n",
       " ('10/20/2020', 'Tuesday', '14,555.88071 IDR'),\n",
       " ('10/19/2020', 'Monday', '14,705.13256 IDR'),\n",
       " ('10/16/2020', 'Friday', '14,688.43616 IDR'),\n",
       " ('10/15/2020', 'Thursday', '14,667.95340 IDR'),\n",
       " ('10/14/2020', 'Wednesday', '14,696.21912 IDR'),\n",
       " ('10/13/2020', 'Tuesday', '14,687.35100 IDR'),\n",
       " ('10/12/2020', 'Monday', '14,677.85296 IDR'),\n",
       " ('10/9/2020', 'Friday', '14,679.27910 IDR'),\n",
       " ('10/8/2020', 'Thursday', '14,692.93025 IDR'),\n",
       " ('10/7/2020', 'Wednesday', '14,705.58246 IDR'),\n",
       " ('10/6/2020', 'Tuesday', '14,857.67854 IDR'),\n",
       " ('10/5/2020', 'Monday', '14,797.90178 IDR'),\n",
       " ('10/2/2020', 'Friday', '14,852.30483 IDR'),\n",
       " ('10/1/2020', 'Thursday', '14,822.66605 IDR'),\n",
       " ('9/30/2020', 'Wednesday', '14,867.44686 IDR'),\n",
       " ('9/29/2020', 'Tuesday', '14,880.93210 IDR'),\n",
       " ('9/28/2020', 'Monday', '14,892.32194 IDR'),\n",
       " ('9/27/2020', 'Sunday', '14,859.98349 IDR'),\n",
       " ('9/25/2020', 'Friday', '14,855.63943 IDR'),\n",
       " ('9/24/2020', 'Thursday', '14,888.78607 IDR'),\n",
       " ('9/23/2020', 'Wednesday', '14,825.54899 IDR'),\n",
       " ('9/22/2020', 'Tuesday', '14,751.85786 IDR'),\n",
       " ('9/21/2020', 'Monday', '14,701.43420 IDR'),\n",
       " ('9/20/2020', 'Sunday', '14,728.84529 IDR'),\n",
       " ('9/18/2020', 'Friday', '14,730.71792 IDR'),\n",
       " ('9/17/2020', 'Thursday', '14,829.41738 IDR'),\n",
       " ('9/16/2020', 'Wednesday', '14,807.88761 IDR'),\n",
       " ('9/15/2020', 'Tuesday', '14,843.44670 IDR'),\n",
       " ('9/14/2020', 'Monday', '14,864.65988 IDR'),\n",
       " ('9/13/2020', 'Sunday', '14,876.45021 IDR'),\n",
       " ('9/11/2020', 'Friday', '14,865.27553 IDR'),\n",
       " ('9/10/2020', 'Thursday', '14,871.58664 IDR'),\n",
       " ('9/9/2020', 'Wednesday', '14,783.50009 IDR'),\n",
       " ('9/8/2020', 'Tuesday', '14,839.54267 IDR'),\n",
       " ('9/7/2020', 'Monday', '14,743.92989 IDR'),\n",
       " ('9/6/2020', 'Sunday', '14,754.95155 IDR'),\n",
       " ('9/4/2020', 'Friday', '14,755.44144 IDR'),\n",
       " ('9/3/2020', 'Thursday', '14,725.75623 IDR'),\n",
       " ('9/2/2020', 'Wednesday', '14,752.83593 IDR'),\n",
       " ('9/1/2020', 'Tuesday', '14,657.30327 IDR'),\n",
       " ('8/31/2020', 'Monday', '14,538.95869 IDR'),\n",
       " ('8/30/2020', 'Sunday', '14,620.74081 IDR'),\n",
       " ('8/28/2020', 'Friday', '14,624.63146 IDR'),\n",
       " ('8/27/2020', 'Thursday', '14,641.58320 IDR'),\n",
       " ('8/26/2020', 'Wednesday', '14,650.54899 IDR'),\n",
       " ('8/25/2020', 'Tuesday', '14,634.54337 IDR'),\n",
       " ('8/24/2020', 'Monday', '14,723.44674 IDR'),\n",
       " ('8/23/2020', 'Sunday', '14,777.76475 IDR'),\n",
       " ('8/21/2020', 'Friday', '14,779.64056 IDR'),\n",
       " ('8/20/2020', 'Thursday', '14,744.53672 IDR'),\n",
       " ('8/19/2020', 'Wednesday', '14,892.13287 IDR'),\n",
       " ('8/18/2020', 'Tuesday', '14,840.94794 IDR'),\n",
       " ('8/17/2020', 'Monday', '14,745.02603 IDR'),\n",
       " ('8/16/2020', 'Sunday', '14,752.59007 IDR'),\n",
       " ('8/14/2020', 'Friday', '14,755.08179 IDR'),\n",
       " ('8/13/2020', 'Thursday', '14,730.67678 IDR'),\n",
       " ('8/12/2020', 'Wednesday', '14,746.93479 IDR'),\n",
       " ('8/11/2020', 'Tuesday', '14,683.96263 IDR'),\n",
       " ('8/10/2020', 'Monday', '14,635.89132 IDR'),\n",
       " ('8/9/2020', 'Sunday', '14,668.96550 IDR'),\n",
       " ('8/7/2020', 'Friday', '14,606.06472 IDR'),\n",
       " ('8/6/2020', 'Thursday', '14,572.05634 IDR'),\n",
       " ('8/5/2020', 'Wednesday', '14,510.27288 IDR'),\n",
       " ('8/4/2020', 'Tuesday', '14,535.77574 IDR'),\n",
       " ('8/3/2020', 'Monday', '14,578.90531 IDR'),\n",
       " ('8/2/2020', 'Sunday', '14,636.91361 IDR'),\n",
       " ('7/31/2020', 'Friday', '14,640.92152 IDR'),\n",
       " ('7/30/2020', 'Thursday', '14,552.65469 IDR'),\n",
       " ('7/29/2020', 'Wednesday', '14,500.86496 IDR'),\n",
       " ('7/28/2020', 'Tuesday', '14,572.13548 IDR'),\n",
       " ('7/27/2020', 'Monday', '14,505.01200 IDR'),\n",
       " ('7/26/2020', 'Sunday', '14,578.95006 IDR'),\n",
       " ('7/24/2020', 'Friday', '14,568.35458 IDR'),\n",
       " ('7/23/2020', 'Thursday', '14,605.50142 IDR'),\n",
       " ('7/22/2020', 'Wednesday', '14,651.65404 IDR'),\n",
       " ('7/21/2020', 'Tuesday', '14,679.86959 IDR'),\n",
       " ('7/20/2020', 'Monday', '14,773.77977 IDR'),\n",
       " ('7/17/2020', 'Friday', '14,690.05172 IDR'),\n",
       " ('7/16/2020', 'Thursday', '14,564.60810 IDR'),\n",
       " ('7/15/2020', 'Wednesday', '14,589.26616 IDR'),\n",
       " ('7/14/2020', 'Tuesday', '14,417.89081 IDR'),\n",
       " ('7/13/2020', 'Monday', '14,390.84796 IDR'),\n",
       " ('7/12/2020', 'Sunday', '14,420.01800 IDR'),\n",
       " ('7/10/2020', 'Friday', '14,365.25218 IDR'),\n",
       " ('7/9/2020', 'Thursday', '14,343.31797 IDR'),\n",
       " ('7/8/2020', 'Wednesday', '14,378.37552 IDR'),\n",
       " ('7/7/2020', 'Tuesday', '14,445.31657 IDR'),\n",
       " ('7/6/2020', 'Monday', '14,289.25101 IDR'),\n",
       " ('7/5/2020', 'Sunday', '14,498.63510 IDR'),\n",
       " ('7/3/2020', 'Friday', '14,488.65681 IDR'),\n",
       " ('7/2/2020', 'Thursday', '14,378.36972 IDR'),\n",
       " ('7/1/2020', 'Wednesday', '14,256.13040 IDR'),\n",
       " ('6/30/2020', 'Tuesday', '14,296.90560 IDR'),\n",
       " ('6/29/2020', 'Monday', '14,183.53912 IDR'),\n",
       " ('6/28/2020', 'Sunday', '14,185.08225 IDR'),\n",
       " ('6/26/2020', 'Friday', '14,190.21303 IDR'),\n",
       " ('6/25/2020', 'Thursday', '14,130.57047 IDR'),\n",
       " ('6/24/2020', 'Wednesday', '14,143.17320 IDR'),\n",
       " ('6/23/2020', 'Tuesday', '14,148.27391 IDR'),\n",
       " ('6/22/2020', 'Monday', '14,136.05128 IDR'),\n",
       " ('6/21/2020', 'Sunday', '14,068.55627 IDR'),\n",
       " ('6/19/2020', 'Friday', '14,077.63950 IDR'),\n",
       " ('6/18/2020', 'Thursday', '14,095.36729 IDR'),\n",
       " ('6/17/2020', 'Wednesday', '14,120.02241 IDR'),\n",
       " ('6/16/2020', 'Tuesday', '14,046.73959 IDR'),\n",
       " ('6/15/2020', 'Monday', '14,021.62200 IDR'),\n",
       " ('6/14/2020', 'Sunday', '14,145.23543 IDR'),\n",
       " ('6/12/2020', 'Friday', '14,121.55442 IDR'),\n",
       " ('6/11/2020', 'Thursday', '13,966.85142 IDR'),\n",
       " ('6/10/2020', 'Wednesday', '13,976.91611 IDR'),\n",
       " ('6/9/2020', 'Tuesday', '13,870.75718 IDR'),\n",
       " ('6/8/2020', 'Monday', '13,867.95377 IDR'),\n",
       " ('6/7/2020', 'Sunday', '13,989.39489 IDR'),\n",
       " ('6/5/2020', 'Friday', '14,305.96407 IDR'),\n",
       " ('6/4/2020', 'Thursday', '14,113.82802 IDR'),\n",
       " ('6/3/2020', 'Wednesday', '14,060.78946 IDR'),\n",
       " ('6/2/2020', 'Tuesday', '14,382.27395 IDR'),\n",
       " ('6/1/2020', 'Monday', '14,586.73900 IDR'),\n",
       " ('5/31/2020', 'Sunday', '14,664.14584 IDR')]"
      ]
     },
     "execution_count": 6,
     "metadata": {},
     "output_type": "execute_result"
    }
   ],
   "source": [
    "temp = [] #initiating a tuple\n",
    "\n",
    "for i in range(1, len(tr)):\n",
    "    row = table.find_all('tr')[i]\n",
    "    \n",
    "    #get period\n",
    "    period = row.find_all('td')[0].text\n",
    "    period = period.strip() #for removing the excess whitespace\n",
    "    \n",
    "    #get day\n",
    "    day = row.find_all('td')[1].text\n",
    "    day = day.strip() #for removing the excess whitespace\n",
    "    \n",
    "     #get row\n",
    "    rate = row.find_all('td')[2].text\n",
    "    rate = rate.strip() #for removing the excess whitespace\n",
    "    \n",
    "    temp.append((period,day,rate)) \n",
    "    \n",
    "temp"
   ]
  },
  {
   "cell_type": "code",
   "execution_count": 7,
   "metadata": {},
   "outputs": [
    {
     "data": {
      "text/plain": [
       "[('5/31/2020', 'Sunday', '14,664.14584 IDR'),\n",
       " ('6/1/2020', 'Monday', '14,586.73900 IDR'),\n",
       " ('6/2/2020', 'Tuesday', '14,382.27395 IDR'),\n",
       " ('6/3/2020', 'Wednesday', '14,060.78946 IDR'),\n",
       " ('6/4/2020', 'Thursday', '14,113.82802 IDR'),\n",
       " ('6/5/2020', 'Friday', '14,305.96407 IDR'),\n",
       " ('6/7/2020', 'Sunday', '13,989.39489 IDR'),\n",
       " ('6/8/2020', 'Monday', '13,867.95377 IDR'),\n",
       " ('6/9/2020', 'Tuesday', '13,870.75718 IDR'),\n",
       " ('6/10/2020', 'Wednesday', '13,976.91611 IDR'),\n",
       " ('6/11/2020', 'Thursday', '13,966.85142 IDR'),\n",
       " ('6/12/2020', 'Friday', '14,121.55442 IDR'),\n",
       " ('6/14/2020', 'Sunday', '14,145.23543 IDR'),\n",
       " ('6/15/2020', 'Monday', '14,021.62200 IDR'),\n",
       " ('6/16/2020', 'Tuesday', '14,046.73959 IDR'),\n",
       " ('6/17/2020', 'Wednesday', '14,120.02241 IDR'),\n",
       " ('6/18/2020', 'Thursday', '14,095.36729 IDR'),\n",
       " ('6/19/2020', 'Friday', '14,077.63950 IDR'),\n",
       " ('6/21/2020', 'Sunday', '14,068.55627 IDR'),\n",
       " ('6/22/2020', 'Monday', '14,136.05128 IDR'),\n",
       " ('6/23/2020', 'Tuesday', '14,148.27391 IDR'),\n",
       " ('6/24/2020', 'Wednesday', '14,143.17320 IDR'),\n",
       " ('6/25/2020', 'Thursday', '14,130.57047 IDR'),\n",
       " ('6/26/2020', 'Friday', '14,190.21303 IDR'),\n",
       " ('6/28/2020', 'Sunday', '14,185.08225 IDR'),\n",
       " ('6/29/2020', 'Monday', '14,183.53912 IDR'),\n",
       " ('6/30/2020', 'Tuesday', '14,296.90560 IDR'),\n",
       " ('7/1/2020', 'Wednesday', '14,256.13040 IDR'),\n",
       " ('7/2/2020', 'Thursday', '14,378.36972 IDR'),\n",
       " ('7/3/2020', 'Friday', '14,488.65681 IDR'),\n",
       " ('7/5/2020', 'Sunday', '14,498.63510 IDR'),\n",
       " ('7/6/2020', 'Monday', '14,289.25101 IDR'),\n",
       " ('7/7/2020', 'Tuesday', '14,445.31657 IDR'),\n",
       " ('7/8/2020', 'Wednesday', '14,378.37552 IDR'),\n",
       " ('7/9/2020', 'Thursday', '14,343.31797 IDR'),\n",
       " ('7/10/2020', 'Friday', '14,365.25218 IDR'),\n",
       " ('7/12/2020', 'Sunday', '14,420.01800 IDR'),\n",
       " ('7/13/2020', 'Monday', '14,390.84796 IDR'),\n",
       " ('7/14/2020', 'Tuesday', '14,417.89081 IDR'),\n",
       " ('7/15/2020', 'Wednesday', '14,589.26616 IDR'),\n",
       " ('7/16/2020', 'Thursday', '14,564.60810 IDR'),\n",
       " ('7/17/2020', 'Friday', '14,690.05172 IDR'),\n",
       " ('7/20/2020', 'Monday', '14,773.77977 IDR'),\n",
       " ('7/21/2020', 'Tuesday', '14,679.86959 IDR'),\n",
       " ('7/22/2020', 'Wednesday', '14,651.65404 IDR'),\n",
       " ('7/23/2020', 'Thursday', '14,605.50142 IDR'),\n",
       " ('7/24/2020', 'Friday', '14,568.35458 IDR'),\n",
       " ('7/26/2020', 'Sunday', '14,578.95006 IDR'),\n",
       " ('7/27/2020', 'Monday', '14,505.01200 IDR'),\n",
       " ('7/28/2020', 'Tuesday', '14,572.13548 IDR'),\n",
       " ('7/29/2020', 'Wednesday', '14,500.86496 IDR'),\n",
       " ('7/30/2020', 'Thursday', '14,552.65469 IDR'),\n",
       " ('7/31/2020', 'Friday', '14,640.92152 IDR'),\n",
       " ('8/2/2020', 'Sunday', '14,636.91361 IDR'),\n",
       " ('8/3/2020', 'Monday', '14,578.90531 IDR'),\n",
       " ('8/4/2020', 'Tuesday', '14,535.77574 IDR'),\n",
       " ('8/5/2020', 'Wednesday', '14,510.27288 IDR'),\n",
       " ('8/6/2020', 'Thursday', '14,572.05634 IDR'),\n",
       " ('8/7/2020', 'Friday', '14,606.06472 IDR'),\n",
       " ('8/9/2020', 'Sunday', '14,668.96550 IDR'),\n",
       " ('8/10/2020', 'Monday', '14,635.89132 IDR'),\n",
       " ('8/11/2020', 'Tuesday', '14,683.96263 IDR'),\n",
       " ('8/12/2020', 'Wednesday', '14,746.93479 IDR'),\n",
       " ('8/13/2020', 'Thursday', '14,730.67678 IDR'),\n",
       " ('8/14/2020', 'Friday', '14,755.08179 IDR'),\n",
       " ('8/16/2020', 'Sunday', '14,752.59007 IDR'),\n",
       " ('8/17/2020', 'Monday', '14,745.02603 IDR'),\n",
       " ('8/18/2020', 'Tuesday', '14,840.94794 IDR'),\n",
       " ('8/19/2020', 'Wednesday', '14,892.13287 IDR'),\n",
       " ('8/20/2020', 'Thursday', '14,744.53672 IDR'),\n",
       " ('8/21/2020', 'Friday', '14,779.64056 IDR'),\n",
       " ('8/23/2020', 'Sunday', '14,777.76475 IDR'),\n",
       " ('8/24/2020', 'Monday', '14,723.44674 IDR'),\n",
       " ('8/25/2020', 'Tuesday', '14,634.54337 IDR'),\n",
       " ('8/26/2020', 'Wednesday', '14,650.54899 IDR'),\n",
       " ('8/27/2020', 'Thursday', '14,641.58320 IDR'),\n",
       " ('8/28/2020', 'Friday', '14,624.63146 IDR'),\n",
       " ('8/30/2020', 'Sunday', '14,620.74081 IDR'),\n",
       " ('8/31/2020', 'Monday', '14,538.95869 IDR'),\n",
       " ('9/1/2020', 'Tuesday', '14,657.30327 IDR'),\n",
       " ('9/2/2020', 'Wednesday', '14,752.83593 IDR'),\n",
       " ('9/3/2020', 'Thursday', '14,725.75623 IDR'),\n",
       " ('9/4/2020', 'Friday', '14,755.44144 IDR'),\n",
       " ('9/6/2020', 'Sunday', '14,754.95155 IDR'),\n",
       " ('9/7/2020', 'Monday', '14,743.92989 IDR'),\n",
       " ('9/8/2020', 'Tuesday', '14,839.54267 IDR'),\n",
       " ('9/9/2020', 'Wednesday', '14,783.50009 IDR'),\n",
       " ('9/10/2020', 'Thursday', '14,871.58664 IDR'),\n",
       " ('9/11/2020', 'Friday', '14,865.27553 IDR'),\n",
       " ('9/13/2020', 'Sunday', '14,876.45021 IDR'),\n",
       " ('9/14/2020', 'Monday', '14,864.65988 IDR'),\n",
       " ('9/15/2020', 'Tuesday', '14,843.44670 IDR'),\n",
       " ('9/16/2020', 'Wednesday', '14,807.88761 IDR'),\n",
       " ('9/17/2020', 'Thursday', '14,829.41738 IDR'),\n",
       " ('9/18/2020', 'Friday', '14,730.71792 IDR'),\n",
       " ('9/20/2020', 'Sunday', '14,728.84529 IDR'),\n",
       " ('9/21/2020', 'Monday', '14,701.43420 IDR'),\n",
       " ('9/22/2020', 'Tuesday', '14,751.85786 IDR'),\n",
       " ('9/23/2020', 'Wednesday', '14,825.54899 IDR'),\n",
       " ('9/24/2020', 'Thursday', '14,888.78607 IDR'),\n",
       " ('9/25/2020', 'Friday', '14,855.63943 IDR'),\n",
       " ('9/27/2020', 'Sunday', '14,859.98349 IDR'),\n",
       " ('9/28/2020', 'Monday', '14,892.32194 IDR'),\n",
       " ('9/29/2020', 'Tuesday', '14,880.93210 IDR'),\n",
       " ('9/30/2020', 'Wednesday', '14,867.44686 IDR'),\n",
       " ('10/1/2020', 'Thursday', '14,822.66605 IDR'),\n",
       " ('10/2/2020', 'Friday', '14,852.30483 IDR'),\n",
       " ('10/5/2020', 'Monday', '14,797.90178 IDR'),\n",
       " ('10/6/2020', 'Tuesday', '14,857.67854 IDR'),\n",
       " ('10/7/2020', 'Wednesday', '14,705.58246 IDR'),\n",
       " ('10/8/2020', 'Thursday', '14,692.93025 IDR'),\n",
       " ('10/9/2020', 'Friday', '14,679.27910 IDR'),\n",
       " ('10/12/2020', 'Monday', '14,677.85296 IDR'),\n",
       " ('10/13/2020', 'Tuesday', '14,687.35100 IDR'),\n",
       " ('10/14/2020', 'Wednesday', '14,696.21912 IDR'),\n",
       " ('10/15/2020', 'Thursday', '14,667.95340 IDR'),\n",
       " ('10/16/2020', 'Friday', '14,688.43616 IDR'),\n",
       " ('10/19/2020', 'Monday', '14,705.13256 IDR'),\n",
       " ('10/20/2020', 'Tuesday', '14,555.88071 IDR'),\n",
       " ('10/21/2020', 'Wednesday', '14,641.61060 IDR'),\n",
       " ('10/22/2020', 'Thursday', '14,647.90877 IDR'),\n",
       " ('10/23/2020', 'Friday', '14,655.04157 IDR'),\n",
       " ('10/26/2020', 'Monday', '14,652.88010 IDR'),\n",
       " ('10/27/2020', 'Tuesday', '14,649.78960 IDR'),\n",
       " ('10/28/2020', 'Wednesday', '14,701.92586 IDR'),\n",
       " ('10/29/2020', 'Thursday', '14,701.62361 IDR'),\n",
       " ('10/30/2020', 'Friday', '14,629.16216 IDR'),\n",
       " ('11/2/2020', 'Monday', '14,612.89990 IDR'),\n",
       " ('11/3/2020', 'Tuesday', '14,589.01774 IDR'),\n",
       " ('11/4/2020', 'Wednesday', '14,544.44634 IDR'),\n",
       " ('11/5/2020', 'Thursday', '14,389.14027 IDR'),\n",
       " ('11/6/2020', 'Friday', '14,214.49744 IDR'),\n",
       " ('11/9/2020', 'Monday', '14,283.29667 IDR'),\n",
       " ('11/10/2020', 'Tuesday', '14,053.76135 IDR'),\n",
       " ('11/11/2020', 'Wednesday', '14,073.46024 IDR'),\n",
       " ('11/12/2020', 'Thursday', '14,141.24303 IDR'),\n",
       " ('11/13/2020', 'Friday', '14,142.77143 IDR'),\n",
       " ('11/16/2020', 'Monday', '14,085.69501 IDR'),\n",
       " ('11/17/2020', 'Tuesday', '14,040.16051 IDR'),\n",
       " ('11/18/2020', 'Wednesday', '14,051.29503 IDR'),\n",
       " ('11/19/2020', 'Thursday', '14,165.50144 IDR'),\n",
       " ('11/20/2020', 'Friday', '14,162.60519 IDR'),\n",
       " ('11/23/2020', 'Monday', '14,185.57119 IDR'),\n",
       " ('11/24/2020', 'Tuesday', '14,137.48161 IDR'),\n",
       " ('11/25/2020', 'Wednesday', '14,136.09929 IDR')]"
      ]
     },
     "execution_count": 7,
     "metadata": {},
     "output_type": "execute_result"
    }
   ],
   "source": [
    "temp = temp[::-1]\n",
    "temp"
   ]
  },
  {
   "cell_type": "markdown",
   "metadata": {},
   "source": [
    "## Creating data frame & Data wrangling"
   ]
  },
  {
   "cell_type": "markdown",
   "metadata": {},
   "source": [
    "Put the array into dataframe"
   ]
  },
  {
   "cell_type": "code",
   "execution_count": 8,
   "metadata": {
    "ExecuteTime": {
     "end_time": "2020-01-13T05:12:41.517372Z",
     "start_time": "2020-01-13T05:12:29.130015Z"
    }
   },
   "outputs": [
    {
     "data": {
      "text/html": [
       "<div>\n",
       "<style scoped>\n",
       "    .dataframe tbody tr th:only-of-type {\n",
       "        vertical-align: middle;\n",
       "    }\n",
       "\n",
       "    .dataframe tbody tr th {\n",
       "        vertical-align: top;\n",
       "    }\n",
       "\n",
       "    .dataframe thead th {\n",
       "        text-align: right;\n",
       "    }\n",
       "</style>\n",
       "<table border=\"1\" class=\"dataframe\">\n",
       "  <thead>\n",
       "    <tr style=\"text-align: right;\">\n",
       "      <th></th>\n",
       "      <th>period</th>\n",
       "      <th>day</th>\n",
       "      <th>rate</th>\n",
       "    </tr>\n",
       "  </thead>\n",
       "  <tbody>\n",
       "    <tr>\n",
       "      <th>0</th>\n",
       "      <td>5/31/2020</td>\n",
       "      <td>Sunday</td>\n",
       "      <td>14,664.14584 IDR</td>\n",
       "    </tr>\n",
       "    <tr>\n",
       "      <th>1</th>\n",
       "      <td>6/1/2020</td>\n",
       "      <td>Monday</td>\n",
       "      <td>14,586.73900 IDR</td>\n",
       "    </tr>\n",
       "    <tr>\n",
       "      <th>2</th>\n",
       "      <td>6/2/2020</td>\n",
       "      <td>Tuesday</td>\n",
       "      <td>14,382.27395 IDR</td>\n",
       "    </tr>\n",
       "    <tr>\n",
       "      <th>3</th>\n",
       "      <td>6/3/2020</td>\n",
       "      <td>Wednesday</td>\n",
       "      <td>14,060.78946 IDR</td>\n",
       "    </tr>\n",
       "    <tr>\n",
       "      <th>4</th>\n",
       "      <td>6/4/2020</td>\n",
       "      <td>Thursday</td>\n",
       "      <td>14,113.82802 IDR</td>\n",
       "    </tr>\n",
       "  </tbody>\n",
       "</table>\n",
       "</div>"
      ],
      "text/plain": [
       "      period        day              rate\n",
       "0  5/31/2020     Sunday  14,664.14584 IDR\n",
       "1   6/1/2020     Monday  14,586.73900 IDR\n",
       "2   6/2/2020    Tuesday  14,382.27395 IDR\n",
       "3   6/3/2020  Wednesday  14,060.78946 IDR\n",
       "4   6/4/2020   Thursday  14,113.82802 IDR"
      ]
     },
     "execution_count": 8,
     "metadata": {},
     "output_type": "execute_result"
    }
   ],
   "source": [
    "import pandas as pd\n",
    "\n",
    "df = pd.DataFrame(temp, columns = ('period','day','rate'))\n",
    "df.head()"
   ]
  },
  {
   "cell_type": "markdown",
   "metadata": {},
   "source": [
    "Do the data cleaning here (please change this markdown with your explanation of what you do for data wrangling)"
   ]
  },
  {
   "cell_type": "code",
   "execution_count": 9,
   "metadata": {
    "ExecuteTime": {
     "end_time": "2020-01-13T05:12:59.165559Z",
     "start_time": "2020-01-13T05:12:58.910012Z"
    }
   },
   "outputs": [
    {
     "data": {
      "text/html": [
       "<div>\n",
       "<style scoped>\n",
       "    .dataframe tbody tr th:only-of-type {\n",
       "        vertical-align: middle;\n",
       "    }\n",
       "\n",
       "    .dataframe tbody tr th {\n",
       "        vertical-align: top;\n",
       "    }\n",
       "\n",
       "    .dataframe thead th {\n",
       "        text-align: right;\n",
       "    }\n",
       "</style>\n",
       "<table border=\"1\" class=\"dataframe\">\n",
       "  <thead>\n",
       "    <tr style=\"text-align: right;\">\n",
       "      <th></th>\n",
       "      <th>period</th>\n",
       "      <th>day</th>\n",
       "      <th>rate</th>\n",
       "    </tr>\n",
       "  </thead>\n",
       "  <tbody>\n",
       "    <tr>\n",
       "      <th>0</th>\n",
       "      <td>2020-05-31</td>\n",
       "      <td>Sunday</td>\n",
       "      <td>14664.14584</td>\n",
       "    </tr>\n",
       "    <tr>\n",
       "      <th>1</th>\n",
       "      <td>2020-06-01</td>\n",
       "      <td>Monday</td>\n",
       "      <td>14586.73900</td>\n",
       "    </tr>\n",
       "    <tr>\n",
       "      <th>2</th>\n",
       "      <td>2020-06-02</td>\n",
       "      <td>Tuesday</td>\n",
       "      <td>14382.27395</td>\n",
       "    </tr>\n",
       "    <tr>\n",
       "      <th>3</th>\n",
       "      <td>2020-06-03</td>\n",
       "      <td>Wednesday</td>\n",
       "      <td>14060.78946</td>\n",
       "    </tr>\n",
       "    <tr>\n",
       "      <th>4</th>\n",
       "      <td>2020-06-04</td>\n",
       "      <td>Thursday</td>\n",
       "      <td>14113.82802</td>\n",
       "    </tr>\n",
       "    <tr>\n",
       "      <th>...</th>\n",
       "      <td>...</td>\n",
       "      <td>...</td>\n",
       "      <td>...</td>\n",
       "    </tr>\n",
       "    <tr>\n",
       "      <th>140</th>\n",
       "      <td>2020-11-19</td>\n",
       "      <td>Thursday</td>\n",
       "      <td>14165.50144</td>\n",
       "    </tr>\n",
       "    <tr>\n",
       "      <th>141</th>\n",
       "      <td>2020-11-20</td>\n",
       "      <td>Friday</td>\n",
       "      <td>14162.60519</td>\n",
       "    </tr>\n",
       "    <tr>\n",
       "      <th>142</th>\n",
       "      <td>2020-11-23</td>\n",
       "      <td>Monday</td>\n",
       "      <td>14185.57119</td>\n",
       "    </tr>\n",
       "    <tr>\n",
       "      <th>143</th>\n",
       "      <td>2020-11-24</td>\n",
       "      <td>Tuesday</td>\n",
       "      <td>14137.48161</td>\n",
       "    </tr>\n",
       "    <tr>\n",
       "      <th>144</th>\n",
       "      <td>2020-11-25</td>\n",
       "      <td>Wednesday</td>\n",
       "      <td>14136.09929</td>\n",
       "    </tr>\n",
       "  </tbody>\n",
       "</table>\n",
       "<p>145 rows × 3 columns</p>\n",
       "</div>"
      ],
      "text/plain": [
       "        period        day         rate\n",
       "0   2020-05-31     Sunday  14664.14584\n",
       "1   2020-06-01     Monday  14586.73900\n",
       "2   2020-06-02    Tuesday  14382.27395\n",
       "3   2020-06-03  Wednesday  14060.78946\n",
       "4   2020-06-04   Thursday  14113.82802\n",
       "..         ...        ...          ...\n",
       "140 2020-11-19   Thursday  14165.50144\n",
       "141 2020-11-20     Friday  14162.60519\n",
       "142 2020-11-23     Monday  14185.57119\n",
       "143 2020-11-24    Tuesday  14137.48161\n",
       "144 2020-11-25  Wednesday  14136.09929\n",
       "\n",
       "[145 rows x 3 columns]"
      ]
     },
     "execution_count": 9,
     "metadata": {},
     "output_type": "execute_result"
    }
   ],
   "source": [
    "df['rate'] = df['rate'].str.replace(\" IDR\",\"\")\n",
    "df['rate'] = df['rate'].str.replace(\",\",\"\")\n",
    "df['period']= pd.to_datetime(df['period'])\n",
    "df['rate'] = df['rate'].astype('float64')\n",
    "df"
   ]
  },
  {
   "cell_type": "code",
   "execution_count": 10,
   "metadata": {},
   "outputs": [
    {
     "data": {
      "text/plain": [
       "<AxesSubplot:xlabel='period'>"
      ]
     },
     "execution_count": 10,
     "metadata": {},
     "output_type": "execute_result"
    },
    {
     "data": {
      "image/png": "[encoded data removed]",
      "text/plain": [
       "<Figure size 432x288 with 1 Axes>"
      ]
     },
     "metadata": {
      "needs_background": "light"
     },
     "output_type": "display_data"
    }
   ],
   "source": [
    "df.plot('period','rate')"
   ]
  },
  {
   "cell_type": "markdown",
   "metadata": {},
   "source": [
    "### Implementing your webscrapping to the flask dashboard\n",
    "\n",
    "- Copy paste all of your web scrapping process to the desired position on the `app.py`\n",
    "- Changing the title of the dasboard at `index.html`"
   ]
  },
  {
   "cell_type": "markdown",
   "metadata": {},
   "source": [
    "## Finishing This Notebook with Your Analysis and Conclusion\n",
    "\n",
    "First you can do start with making the data visualisation. "
   ]
  },
  {
   "cell_type": "markdown",
   "metadata": {
    "ExecuteTime": {
     "end_time": "2020-01-13T05:20:56.208237Z",
     "start_time": "2020-01-13T05:20:56.076043Z"
    }
   },
   "source": [
    "terdapat kenaikan nilai kurs dari bulan juni 2020\\\n",
    "namun terjadi penurunan nilai kurs di mulai dari bulan oktober 2020"
   ]
  },
  {
   "cell_type": "markdown",
   "metadata": {},
   "source": [
    "\n",
    "(Put your analysis and conclusion here.)"
   ]
  },
  {
   "cell_type": "markdown",
   "metadata": {},
   "source": [
    "### Extra Challange\n",
    "\n",
    "This will be not included to the scoring. \n",
    "\n",
    "- You can create additional analysis from the data.\n",
    "- Implement it to the dashboard with at `app.py` dan `index.html`."
   ]
  }
 ],
 "metadata": {
  "kernelspec": {
   "display_name": "Data Analytic",
   "language": "python",
   "name": "venv2"
  },
  "language_info": {
   "codemirror_mode": {
    "name": "ipython",
    "version": 3
   },
   "file_extension": ".py",
   "mimetype": "text/x-python",
   "name": "python",
   "nbconvert_exporter": "python",
   "pygments_lexer": "ipython3",
   "version": "3.8.5"
  },
  "toc": {
   "base_numbering": 1,
   "nav_menu": {},
   "number_sections": true,
   "sideBar": true,
   "skip_h1_title": false,
   "title_cell": "Table of Contents",
   "title_sidebar": "Contents",
   "toc_cell": false,
   "toc_position": {},
   "toc_section_display": true,
   "toc_window_display": false
  }
 },
 "nbformat": 4,
 "nbformat_minor": 2
}
